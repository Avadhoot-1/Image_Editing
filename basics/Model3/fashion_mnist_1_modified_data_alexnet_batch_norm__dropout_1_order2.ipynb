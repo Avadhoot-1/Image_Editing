{
  "nbformat": 4,
  "nbformat_minor": 0,
  "metadata": {
    "colab": {
      "provenance": [],
      "gpuType": "V28"
    },
    "kernelspec": {
      "name": "python3",
      "display_name": "Python 3"
    },
    "accelerator": "TPU"
  },
  "cells": [
    {
      "metadata": {
        "id": "Se1CMIrWeOWn"
      },
      "cell_type": "markdown",
      "source": [
        "# **Classifying Clothing Images**"
      ]
    },
    {
      "metadata": {
        "id": "T4W0Ekpvcn1U"
      },
      "cell_type": "code",
      "source": [
        "# Import the necessary libraries\n",
        "import numpy as np\n",
        "import torch\n",
        "import matplotlib.pyplot as plt"
      ],
      "execution_count": 24,
      "outputs": []
    },
    {
      "metadata": {
        "id": "A2BeI0yheafI"
      },
      "cell_type": "code",
      "source": [
        "# Loading the Fashion-MNIST dataset\n",
        "from torchvision import datasets, transforms\n",
        "from torch.utils.data import DataLoader, random_split\n",
        "# Define a transform to normalize the data\n",
        "transform = transforms.Compose([transforms.ToTensor(),\n",
        "                                transforms.Normalize((0.5,), (0.5,))\n",
        "                               ])\n",
        "\n",
        "# Download and load the training data\n",
        "trainset = datasets.FashionMNIST('MNIST_data/', download = True, train = True, transform = transform)\n",
        "testset = datasets.FashionMNIST('MNIST_data/', download = True, train = False, transform = transform)\n",
        "subset_size = int(0.4 * len(trainset))\n",
        "subset_train_data, _ = random_split(trainset, [subset_size, len(trainset) - subset_size])\n",
        "trainloader = torch.utils.data.DataLoader(subset_train_data, batch_size = 256, shuffle = True)\n",
        "testloader = torch.utils.data.DataLoader(testset, batch_size = 256, shuffle = True)"
      ],
      "execution_count": 25,
      "outputs": []
    },
    {
      "metadata": {
        "id": "7P-3bh9ajd9I",
        "outputId": "8d5043fa-7d40-46fe-bee0-e4ca22996bcf",
        "colab": {
          "base_uri": "https://localhost:8080/"
        }
      },
      "cell_type": "code",
      "source": [
        "# Examine a sample\n",
        "dataiter = iter(trainloader)\n",
        "images, labels = next(dataiter)\n",
        "print(type(images))\n",
        "print(images.shape)\n",
        "print(labels.shape)"
      ],
      "execution_count": 26,
      "outputs": [
        {
          "output_type": "stream",
          "name": "stdout",
          "text": [
            "<class 'torch.Tensor'>\n",
            "torch.Size([256, 1, 28, 28])\n",
            "torch.Size([256])\n"
          ]
        }
      ]
    },
    {
      "metadata": {
        "id": "qLeSAPsJjysS",
        "outputId": "795da595-7ecf-4a8c-bb34-2b12a03bf1d9",
        "colab": {
          "base_uri": "https://localhost:8080/",
          "height": 448
        }
      },
      "cell_type": "code",
      "source": [
        "plt.imshow(images[1].numpy().squeeze(), cmap = 'Greys_r')"
      ],
      "execution_count": 27,
      "outputs": [
        {
          "output_type": "execute_result",
          "data": {
            "text/plain": [
              "<matplotlib.image.AxesImage at 0x79df0fe51d80>"
            ]
          },
          "metadata": {},
          "execution_count": 27
        },
        {
          "output_type": "display_data",
          "data": {
            "text/plain": [
              "<Figure size 640x480 with 1 Axes>"
            ],
            "image/png": "[encoded data removed]"
          },
          "metadata": {}
        }
      ]
    },
    {
      "metadata": {
        "id": "4ds0thNgkCqF",
        "colab": {
          "base_uri": "https://localhost:8080/"
        },
        "outputId": "292976ed-a2c1-421a-88e7-e9654031d9d6"
      },
      "cell_type": "code",
      "source": [
        "# Define the network architecture\n",
        "from torch import nn, optim\n",
        "import torch.nn.functional as F\n",
        "# from torchsummary import summary\n",
        "if torch.cuda.is_available():\n",
        "    device = torch.device(\"cuda\")\n",
        "    print(\"CUDA is available! Using GPU for computations.\")\n",
        "else:\n",
        "    device = torch.device(\"cpu\")\n",
        "    print(\"CUDA is not available. Using CPU for computations.\")\n",
        "\n",
        "class AlexNet(nn.Module):\n",
        "    def __init__(self, num_classes: int = 1000, dropout: float = 0.1) -> None:\n",
        "        super().__init__()\n",
        "        self.features = nn.Sequential(\n",
        "            nn.Conv2d(1, 16, kernel_size=3, stride=1, padding=2),\n",
        "            nn.BatchNorm2d(16),\n",
        "            nn.ReLU(inplace=True),\n",
        "\n",
        "            nn.Dropout(p=dropout),\n",
        "            nn.MaxPool2d(kernel_size=3, stride=2),\n",
        "            nn.Conv2d(16, 64, kernel_size=5, padding=2),\n",
        "            nn.BatchNorm2d(64),\n",
        "            nn.ReLU(inplace=True),\n",
        "\n",
        "            nn.Dropout(p=dropout),\n",
        "            nn.MaxPool2d(kernel_size=3, stride=2),\n",
        "            nn.Conv2d(64, 32, kernel_size=3, padding=1),\n",
        "            nn.BatchNorm2d(32),\n",
        "            nn.ReLU(inplace=True),\n",
        "\n",
        "            nn.Dropout(p=dropout),\n",
        "            nn.Conv2d(32, 24, kernel_size=3, padding=1),\n",
        "            nn.BatchNorm2d(24),\n",
        "            nn.ReLU(inplace=True),\n",
        "\n",
        "            nn.Dropout(p=dropout),\n",
        "            nn.Conv2d(24, 24, kernel_size=3, padding=1),\n",
        "            nn.ReLU(inplace=True),\n",
        "            nn.MaxPool2d(kernel_size=3, stride=2),\n",
        "        )\n",
        "        self.avgpool = nn.AdaptiveAvgPool2d((6, 6))\n",
        "        self.classifier = nn.Sequential(\n",
        "            nn.Linear(864, 1024),\n",
        "            nn.ReLU(inplace=True),\n",
        "            nn.Linear(1024, 64),\n",
        "            nn.ReLU(inplace=True),\n",
        "            nn.Linear(64, num_classes),\n",
        "        )\n",
        "        self.log_softmax  = nn.LogSoftmax(dim = 1)\n",
        "\n",
        "    def forward(self, x: torch.Tensor) -> torch.Tensor:\n",
        "        x = self.features(x)\n",
        "        x = self.avgpool(x)\n",
        "        x = torch.flatten(x, 1)\n",
        "        x = self.classifier(x)\n",
        "        x = self.log_softmax(x)\n",
        "        return x\n",
        "\n",
        "model = AlexNet(10)\n",
        "# summary(model, (1,28,28))\n",
        "model.to(device)\n",
        "# Define the loss\n",
        "criterion = nn.NLLLoss()\n",
        "\n",
        "# Define the optimizer\n",
        "optimizer = optim.Adam(model.parameters(), lr = 0.002)\n",
        "\n",
        "def label_smoothing(act, pred):\n",
        "  return -1*(torch.sum(act*pred))"
      ],
      "execution_count": 28,
      "outputs": [
        {
          "output_type": "stream",
          "name": "stdout",
          "text": [
            "CUDA is not available. Using CPU for computations.\n"
          ]
        }
      ]
    },
    {
      "cell_type": "code",
      "source": [
        "from tqdm import tqdm\n",
        "epochs = 30\n",
        "\n",
        "train_losses, test_losses = [], []\n",
        "\n",
        "for e in range(epochs):\n",
        "  running_loss = 0\n",
        "  for images, labels in trainloader:\n",
        "    # Flatten Fashion-MNIST images into a 784 long vector\n",
        "    # images = images.view(images.shape[0], -1)\n",
        "    images = images.to(device)\n",
        "    labels = labels.to(device)\n",
        "    # Training pass\n",
        "    optimizer.zero_grad()\n",
        "\n",
        "    output = model(images)\n",
        "    # with torch.no_grad():\n",
        "    #   labels_smooth = F.one_hot(labels, 10)\n",
        "    #   labels_smooth = labels_smooth.float()\n",
        "    #   labels_smooth = labels_smooth*0.7 + 0.3/10\n",
        "    loss = criterion(output, labels)\n",
        "    loss.backward()\n",
        "    optimizer.step()\n",
        "\n",
        "    running_loss += loss.item()\n",
        "  else:\n",
        "    test_loss = 0\n",
        "    accuracy = 0\n",
        "\n",
        "    # Turn off gradients for validation, saves memory and computation\n",
        "    with torch.no_grad():\n",
        "      # Set the model to evaluation mode\n",
        "      model.eval()\n",
        "\n",
        "      # Validation pass\n",
        "      for images, labels in testloader:\n",
        "        images = images.to(device)\n",
        "        labels = labels.to(device)\n",
        "        log_ps = model(images)\n",
        "\n",
        "        test_loss += criterion(log_ps, labels)\n",
        "\n",
        "        ps = torch.exp(log_ps)\n",
        "        top_p, top_class = ps.topk(1, dim = 1)\n",
        "        equals = top_class == labels.view(*top_class.shape)\n",
        "        accuracy += torch.mean(equals.type(torch.FloatTensor))\n",
        "\n",
        "    model.train()\n",
        "    train_losses.append(running_loss/len(trainloader))\n",
        "    test_losses.append(test_loss/len(testloader))\n",
        "\n",
        "    print(\"Epoch: {}/{}..\".format(e+1, epochs),\n",
        "          \"Training loss: {:.3f}..\".format(running_loss/len(trainloader)),\n",
        "          \"Test loss: {:.3f}..\".format(test_loss/len(testloader)),\n",
        "          \"Test Accuracy: {:.3f}\".format(accuracy/len(testloader)))"
      ],
      "metadata": {
        "colab": {
          "base_uri": "https://localhost:8080/"
        },
        "id": "GEv0iPcj3tNc",
        "outputId": "cbd61fee-1752-4fc0-817a-298ed1f9a7e7"
      },
      "execution_count": 29,
      "outputs": [
        {
          "output_type": "stream",
          "name": "stdout",
          "text": [
            "Epoch: 1/30.. Training loss: 0.762.. Test loss: 0.552.. Test Accuracy: 0.800\n",
            "Epoch: 2/30.. Training loss: 0.432.. Test loss: 0.448.. Test Accuracy: 0.841\n",
            "Epoch: 3/30.. Training loss: 0.351.. Test loss: 0.376.. Test Accuracy: 0.860\n",
            "Epoch: 4/30.. Training loss: 0.320.. Test loss: 0.346.. Test Accuracy: 0.877\n",
            "Epoch: 5/30.. Training loss: 0.289.. Test loss: 0.357.. Test Accuracy: 0.873\n",
            "Epoch: 6/30.. Training loss: 0.277.. Test loss: 0.340.. Test Accuracy: 0.870\n",
            "Epoch: 7/30.. Training loss: 0.268.. Test loss: 0.337.. Test Accuracy: 0.881\n",
            "Epoch: 8/30.. Training loss: 0.256.. Test loss: 0.307.. Test Accuracy: 0.888\n",
            "Epoch: 9/30.. Training loss: 0.243.. Test loss: 0.294.. Test Accuracy: 0.893\n",
            "Epoch: 10/30.. Training loss: 0.220.. Test loss: 0.332.. Test Accuracy: 0.882\n",
            "Epoch: 11/30.. Training loss: 0.225.. Test loss: 0.336.. Test Accuracy: 0.879\n",
            "Epoch: 12/30.. Training loss: 0.212.. Test loss: 0.335.. Test Accuracy: 0.875\n",
            "Epoch: 13/30.. Training loss: 0.201.. Test loss: 0.293.. Test Accuracy: 0.894\n",
            "Epoch: 14/30.. Training loss: 0.192.. Test loss: 0.292.. Test Accuracy: 0.897\n",
            "Epoch: 15/30.. Training loss: 0.188.. Test loss: 0.354.. Test Accuracy: 0.872\n",
            "Epoch: 16/30.. Training loss: 0.187.. Test loss: 0.350.. Test Accuracy: 0.881\n",
            "Epoch: 17/30.. Training loss: 0.179.. Test loss: 0.382.. Test Accuracy: 0.875\n",
            "Epoch: 19/30.. Training loss: 0.170.. Test loss: 0.276.. Test Accuracy: 0.904\n",
            "Epoch: 20/30.. Training loss: 0.159.. Test loss: 0.311.. Test Accuracy: 0.893\n",
            "Epoch: 21/30.. Training loss: 0.161.. Test loss: 0.301.. Test Accuracy: 0.894\n",
            "Epoch: 22/30.. Training loss: 0.155.. Test loss: 0.317.. Test Accuracy: 0.902\n",
            "Epoch: 23/30.. Training loss: 0.154.. Test loss: 0.332.. Test Accuracy: 0.892\n",
            "Epoch: 24/30.. Training loss: 0.152.. Test loss: 0.307.. Test Accuracy: 0.902\n",
            "Epoch: 25/30.. Training loss: 0.140.. Test loss: 0.319.. Test Accuracy: 0.896\n",
            "Epoch: 26/30.. Training loss: 0.145.. Test loss: 0.308.. Test Accuracy: 0.900\n",
            "Epoch: 27/30.. Training loss: 0.136.. Test loss: 0.308.. Test Accuracy: 0.900\n",
            "Epoch: 28/30.. Training loss: 0.136.. Test loss: 0.306.. Test Accuracy: 0.904\n",
            "Epoch: 29/30.. Training loss: 0.129.. Test loss: 0.316.. Test Accuracy: 0.899\n",
            "Epoch: 30/30.. Training loss: 0.134.. Test loss: 0.306.. Test Accuracy: 0.900\n"
          ]
        }
      ]
    },
    {
      "metadata": {
        "id": "24VtkQ1ouMoc",
        "colab": {
          "base_uri": "https://localhost:8080/",
          "height": 448
        },
        "outputId": "eeeee1f4-5f15-4086-a261-bdbd7cb8868e"
      },
      "cell_type": "code",
      "source": [
        "if isinstance(train_losses, torch.Tensor):\n",
        "    train_losses = train_losses.cpu().numpy()\n",
        "\n",
        "if isinstance(test_losses, torch.Tensor):\n",
        "    test_losses = test_losses.cpu().numpy()\n",
        "train_losses = [loss.cpu().numpy() if isinstance(loss, torch.Tensor) else loss for loss in train_losses]\n",
        "test_losses = [loss.cpu().numpy() if isinstance(loss, torch.Tensor) else loss for loss in test_losses]\n",
        "plt.plot(train_losses, label = \"Training loss\")\n",
        "plt.plot(test_losses, label = \"Validation loss\")\n",
        "plt.legend(frameon = False)"
      ],
      "execution_count": 30,
      "outputs": [
        {
          "output_type": "execute_result",
          "data": {
            "text/plain": [
              "<matplotlib.legend.Legend at 0x79df0fda72b0>"
            ]
          },
          "metadata": {},
          "execution_count": 30
        },
        {
          "output_type": "display_data",
          "data": {
            "text/plain": [
              "<Figure size 640x480 with 1 Axes>"
            ],
            "image/png": "[encoded data removed]"
          },
          "metadata": {}
        }
      ]
    }
  ]
}