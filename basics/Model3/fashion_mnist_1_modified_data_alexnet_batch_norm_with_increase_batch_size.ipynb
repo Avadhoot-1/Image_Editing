{
  "nbformat": 4,
  "nbformat_minor": 0,
  "metadata": {
    "colab": {
      "provenance": [],
      "gpuType": "V28"
    },
    "kernelspec": {
      "name": "python3",
      "display_name": "Python 3"
    },
    "accelerator": "TPU"
  },
  "cells": [
    {
      "metadata": {
        "id": "Se1CMIrWeOWn"
      },
      "cell_type": "markdown",
      "source": [
        "# **Classifying Clothing Images**"
      ]
    },
    {
      "metadata": {
        "id": "T4W0Ekpvcn1U"
      },
      "cell_type": "code",
      "source": [
        "# Import the necessary libraries\n",
        "import numpy as np\n",
        "import torch\n",
        "import matplotlib.pyplot as plt"
      ],
      "execution_count": 1,
      "outputs": []
    },
    {
      "metadata": {
        "id": "A2BeI0yheafI",
        "colab": {
          "base_uri": "https://localhost:8080/"
        },
        "outputId": "cd6ac455-0871-457e-97e1-35fab05254ad"
      },
      "cell_type": "code",
      "source": [
        "# Loading the Fashion-MNIST dataset\n",
        "from torchvision import datasets, transforms\n",
        "from torch.utils.data import DataLoader, random_split\n",
        "# Define a transform to normalize the data\n",
        "transform = transforms.Compose([transforms.ToTensor(),\n",
        "                                transforms.Normalize((0.5,), (0.5,))\n",
        "                               ])\n",
        "\n",
        "# Download and load the training data\n",
        "trainset = datasets.FashionMNIST('MNIST_data/', download = True, train = True, transform = transform)\n",
        "testset = datasets.FashionMNIST('MNIST_data/', download = True, train = False, transform = transform)\n",
        "subset_size = int(0.4 * len(trainset))\n",
        "subset_train_data, _ = random_split(trainset, [subset_size, len(trainset) - subset_size])\n",
        "trainloader = torch.utils.data.DataLoader(subset_train_data, batch_size = 256, shuffle = True)\n",
        "testloader = torch.utils.data.DataLoader(testset, batch_size = 256, shuffle = True)"
      ],
      "execution_count": 2,
      "outputs": [
        {
          "output_type": "stream",
          "name": "stdout",
          "text": [
            "Downloading http://fashion-mnist.s3-website.eu-central-1.amazonaws.com/train-images-idx3-ubyte.gz\n",
            "Downloading http://fashion-mnist.s3-website.eu-central-1.amazonaws.com/train-images-idx3-ubyte.gz to MNIST_data/FashionMNIST/raw/train-images-idx3-ubyte.gz\n"
          ]
        },
        {
          "output_type": "stream",
          "name": "stderr",
          "text": [
            "100%|██████████| 26421880/26421880 [00:04<00:00, 6351831.25it/s] \n"
          ]
        },
        {
          "output_type": "stream",
          "name": "stdout",
          "text": [
            "Extracting MNIST_data/FashionMNIST/raw/train-images-idx3-ubyte.gz to MNIST_data/FashionMNIST/raw\n",
            "\n",
            "Downloading http://fashion-mnist.s3-website.eu-central-1.amazonaws.com/train-labels-idx1-ubyte.gz\n",
            "Downloading http://fashion-mnist.s3-website.eu-central-1.amazonaws.com/train-labels-idx1-ubyte.gz to MNIST_data/FashionMNIST/raw/train-labels-idx1-ubyte.gz\n"
          ]
        },
        {
          "output_type": "stream",
          "name": "stderr",
          "text": [
            "100%|██████████| 29515/29515 [00:00<00:00, 269708.56it/s]\n"
          ]
        },
        {
          "output_type": "stream",
          "name": "stdout",
          "text": [
            "Extracting MNIST_data/FashionMNIST/raw/train-labels-idx1-ubyte.gz to MNIST_data/FashionMNIST/raw\n",
            "\n",
            "Downloading http://fashion-mnist.s3-website.eu-central-1.amazonaws.com/t10k-images-idx3-ubyte.gz\n",
            "Downloading http://fashion-mnist.s3-website.eu-central-1.amazonaws.com/t10k-images-idx3-ubyte.gz to MNIST_data/FashionMNIST/raw/t10k-images-idx3-ubyte.gz\n"
          ]
        },
        {
          "output_type": "stream",
          "name": "stderr",
          "text": [
            "100%|██████████| 4422102/4422102 [00:01<00:00, 2510547.35it/s]\n"
          ]
        },
        {
          "output_type": "stream",
          "name": "stdout",
          "text": [
            "Extracting MNIST_data/FashionMNIST/raw/t10k-images-idx3-ubyte.gz to MNIST_data/FashionMNIST/raw\n",
            "\n",
            "Downloading http://fashion-mnist.s3-website.eu-central-1.amazonaws.com/t10k-labels-idx1-ubyte.gz\n",
            "Downloading http://fashion-mnist.s3-website.eu-central-1.amazonaws.com/t10k-labels-idx1-ubyte.gz to MNIST_data/FashionMNIST/raw/t10k-labels-idx1-ubyte.gz\n"
          ]
        },
        {
          "output_type": "stream",
          "name": "stderr",
          "text": [
            "100%|██████████| 5148/5148 [00:00<00:00, 9854987.22it/s]"
          ]
        },
        {
          "output_type": "stream",
          "name": "stdout",
          "text": [
            "Extracting MNIST_data/FashionMNIST/raw/t10k-labels-idx1-ubyte.gz to MNIST_data/FashionMNIST/raw\n",
            "\n"
          ]
        },
        {
          "output_type": "stream",
          "name": "stderr",
          "text": [
            "\n"
          ]
        }
      ]
    },
    {
      "metadata": {
        "id": "7P-3bh9ajd9I",
        "outputId": "bebbb90e-b7e1-49d0-ea42-ac9c71a47c75",
        "colab": {
          "base_uri": "https://localhost:8080/"
        }
      },
      "cell_type": "code",
      "source": [
        "# Examine a sample\n",
        "dataiter = iter(trainloader)\n",
        "images, labels = next(dataiter)\n",
        "print(type(images))\n",
        "print(images.shape)\n",
        "print(labels.shape)"
      ],
      "execution_count": 3,
      "outputs": [
        {
          "output_type": "stream",
          "name": "stdout",
          "text": [
            "<class 'torch.Tensor'>\n",
            "torch.Size([256, 1, 28, 28])\n",
            "torch.Size([256])\n"
          ]
        }
      ]
    },
    {
      "metadata": {
        "id": "qLeSAPsJjysS",
        "outputId": "36fb5fda-2a6d-46a0-9270-4197cf798873",
        "colab": {
          "base_uri": "https://localhost:8080/",
          "height": 448
        }
      },
      "cell_type": "code",
      "source": [
        "plt.imshow(images[1].numpy().squeeze(), cmap = 'Greys_r')"
      ],
      "execution_count": 4,
      "outputs": [
        {
          "output_type": "execute_result",
          "data": {
            "text/plain": [
              "<matplotlib.image.AxesImage at 0x79df12b52230>"
            ]
          },
          "metadata": {},
          "execution_count": 4
        },
        {
          "output_type": "display_data",
          "data": {
            "text/plain": [
              "<Figure size 640x480 with 1 Axes>"
            ],
            "image/png": "[encoded data removed]"
          },
          "metadata": {}
        }
      ]
    },
    {
      "metadata": {
        "id": "4ds0thNgkCqF",
        "colab": {
          "base_uri": "https://localhost:8080/"
        },
        "outputId": "76eae2fb-5818-40c2-fc67-e6f9b32ecb6b"
      },
      "cell_type": "code",
      "source": [
        "# Define the network architecture\n",
        "from torch import nn, optim\n",
        "import torch.nn.functional as F\n",
        "# from torchsummary import summary\n",
        "if torch.cuda.is_available():\n",
        "    device = torch.device(\"cuda\")\n",
        "    print(\"CUDA is available! Using GPU for computations.\")\n",
        "else:\n",
        "    device = torch.device(\"cpu\")\n",
        "    print(\"CUDA is not available. Using CPU for computations.\")\n",
        "\n",
        "class AlexNet(nn.Module):\n",
        "    def __init__(self, num_classes: int = 1000, dropout: float = 0.5) -> None:\n",
        "        super().__init__()\n",
        "        self.features = nn.Sequential(\n",
        "            nn.Conv2d(1, 16, kernel_size=3, stride=1, padding=2),\n",
        "            nn.ReLU(inplace=True),\n",
        "            nn.BatchNorm2d(16),\n",
        "            nn.MaxPool2d(kernel_size=3, stride=2),\n",
        "            nn.Conv2d(16, 64, kernel_size=5, padding=2),\n",
        "            nn.ReLU(inplace=True),\n",
        "            nn.BatchNorm2d(64),\n",
        "            nn.MaxPool2d(kernel_size=3, stride=2),\n",
        "            nn.Conv2d(64, 32, kernel_size=3, padding=1),\n",
        "            nn.ReLU(inplace=True),\n",
        "            nn.BatchNorm2d(32),\n",
        "            nn.Conv2d(32, 24, kernel_size=3, padding=1),\n",
        "            nn.ReLU(inplace=True),\n",
        "            nn.BatchNorm2d(24),\n",
        "            nn.Conv2d(24, 24, kernel_size=3, padding=1),\n",
        "            nn.ReLU(inplace=True),\n",
        "            nn.MaxPool2d(kernel_size=3, stride=2),\n",
        "        )\n",
        "        self.avgpool = nn.AdaptiveAvgPool2d((6, 6))\n",
        "        self.classifier = nn.Sequential(\n",
        "            nn.Linear(864, 1024),\n",
        "            nn.ReLU(inplace=True),\n",
        "            nn.Linear(1024, 64),\n",
        "            nn.ReLU(inplace=True),\n",
        "            nn.Linear(64, num_classes),\n",
        "        )\n",
        "        self.log_softmax  = nn.LogSoftmax(dim = 1)\n",
        "\n",
        "    def forward(self, x: torch.Tensor) -> torch.Tensor:\n",
        "        x = self.features(x)\n",
        "        x = self.avgpool(x)\n",
        "        x = torch.flatten(x, 1)\n",
        "        x = self.classifier(x)\n",
        "        x = self.log_softmax(x)\n",
        "        return x\n",
        "\n",
        "model = AlexNet(10)\n",
        "# summary(model, (1,28,28))\n",
        "model.to(device)\n",
        "# Define the loss\n",
        "criterion = nn.NLLLoss()\n",
        "\n",
        "# Define the optimizer\n",
        "optimizer = optim.Adam(model.parameters(), lr = 0.002)\n",
        "\n",
        "def label_smoothing(act, pred):\n",
        "  return -1*(torch.sum(act*pred))"
      ],
      "execution_count": 7,
      "outputs": [
        {
          "output_type": "stream",
          "name": "stdout",
          "text": [
            "CUDA is not available. Using CPU for computations.\n"
          ]
        }
      ]
    },
    {
      "cell_type": "code",
      "source": [
        "from tqdm import tqdm\n",
        "epochs = 30\n",
        "\n",
        "train_losses, test_losses = [], []\n",
        "\n",
        "for e in range(epochs):\n",
        "  running_loss = 0\n",
        "  for images, labels in trainloader:\n",
        "    # Flatten Fashion-MNIST images into a 784 long vector\n",
        "    # images = images.view(images.shape[0], -1)\n",
        "    images = images.to(device)\n",
        "    labels = labels.to(device)\n",
        "    # Training pass\n",
        "    optimizer.zero_grad()\n",
        "\n",
        "    output = model(images)\n",
        "    # with torch.no_grad():\n",
        "    #   labels_smooth = F.one_hot(labels, 10)\n",
        "    #   labels_smooth = labels_smooth.float()\n",
        "    #   labels_smooth = labels_smooth*0.7 + 0.3/10\n",
        "    loss = criterion(output, labels)\n",
        "    loss.backward()\n",
        "    optimizer.step()\n",
        "\n",
        "    running_loss += loss.item()\n",
        "  else:\n",
        "    test_loss = 0\n",
        "    accuracy = 0\n",
        "\n",
        "    # Turn off gradients for validation, saves memory and computation\n",
        "    with torch.no_grad():\n",
        "      # Set the model to evaluation mode\n",
        "      model.eval()\n",
        "\n",
        "      # Validation pass\n",
        "      for images, labels in testloader:\n",
        "        images = images.to(device)\n",
        "        labels = labels.to(device)\n",
        "        log_ps = model(images)\n",
        "\n",
        "        test_loss += criterion(log_ps, labels)\n",
        "\n",
        "        ps = torch.exp(log_ps)\n",
        "        top_p, top_class = ps.topk(1, dim = 1)\n",
        "        equals = top_class == labels.view(*top_class.shape)\n",
        "        accuracy += torch.mean(equals.type(torch.FloatTensor))\n",
        "\n",
        "    model.train()\n",
        "    train_losses.append(running_loss/len(trainloader))\n",
        "    test_losses.append(test_loss/len(testloader))\n",
        "\n",
        "    print(\"Epoch: {}/{}..\".format(e+1, epochs),\n",
        "          \"Training loss: {:.3f}..\".format(running_loss/len(trainloader)),\n",
        "          \"Test loss: {:.3f}..\".format(test_loss/len(testloader)),\n",
        "          \"Test Accuracy: {:.3f}\".format(accuracy/len(testloader)))"
      ],
      "metadata": {
        "colab": {
          "base_uri": "https://localhost:8080/"
        },
        "id": "GEv0iPcj3tNc",
        "outputId": "372182ee-2698-4809-8498-086ed73d0c03"
      },
      "execution_count": 8,
      "outputs": [
        {
          "output_type": "stream",
          "name": "stdout",
          "text": [
            "Epoch: 1/30.. Training loss: 0.777.. Test loss: 0.497.. Test Accuracy: 0.815\n",
            "Epoch: 2/30.. Training loss: 0.395.. Test loss: 0.415.. Test Accuracy: 0.849\n",
            "Epoch: 3/30.. Training loss: 0.321.. Test loss: 0.408.. Test Accuracy: 0.856\n",
            "Epoch: 4/30.. Training loss: 0.288.. Test loss: 0.366.. Test Accuracy: 0.871\n",
            "Epoch: 5/30.. Training loss: 0.255.. Test loss: 0.322.. Test Accuracy: 0.886\n",
            "Epoch: 6/30.. Training loss: 0.232.. Test loss: 0.334.. Test Accuracy: 0.882\n",
            "Epoch: 7/30.. Training loss: 0.225.. Test loss: 0.365.. Test Accuracy: 0.864\n",
            "Epoch: 8/30.. Training loss: 0.202.. Test loss: 0.319.. Test Accuracy: 0.895\n",
            "Epoch: 9/30.. Training loss: 0.180.. Test loss: 0.325.. Test Accuracy: 0.898\n",
            "Epoch: 10/30.. Training loss: 0.171.. Test loss: 0.341.. Test Accuracy: 0.887\n",
            "Epoch: 11/30.. Training loss: 0.167.. Test loss: 0.352.. Test Accuracy: 0.881\n",
            "Epoch: 12/30.. Training loss: 0.149.. Test loss: 0.345.. Test Accuracy: 0.895\n",
            "Epoch: 13/30.. Training loss: 0.155.. Test loss: 0.327.. Test Accuracy: 0.892\n",
            "Epoch: 14/30.. Training loss: 0.133.. Test loss: 0.354.. Test Accuracy: 0.890\n",
            "Epoch: 15/30.. Training loss: 0.129.. Test loss: 0.377.. Test Accuracy: 0.883\n",
            "Epoch: 16/30.. Training loss: 0.122.. Test loss: 0.355.. Test Accuracy: 0.896\n",
            "Epoch: 17/30.. Training loss: 0.117.. Test loss: 0.455.. Test Accuracy: 0.866\n",
            "Epoch: 18/30.. Training loss: 0.103.. Test loss: 0.367.. Test Accuracy: 0.891\n",
            "Epoch: 19/30.. Training loss: 0.103.. Test loss: 0.387.. Test Accuracy: 0.892\n",
            "Epoch: 20/30.. Training loss: 0.098.. Test loss: 0.432.. Test Accuracy: 0.893\n",
            "Epoch: 21/30.. Training loss: 0.102.. Test loss: 0.418.. Test Accuracy: 0.897\n",
            "Epoch: 22/30.. Training loss: 0.080.. Test loss: 0.397.. Test Accuracy: 0.900\n",
            "Epoch: 23/30.. Training loss: 0.074.. Test loss: 0.476.. Test Accuracy: 0.891\n",
            "Epoch: 24/30.. Training loss: 0.088.. Test loss: 0.461.. Test Accuracy: 0.890\n",
            "Epoch: 25/30.. Training loss: 0.075.. Test loss: 0.468.. Test Accuracy: 0.894\n",
            "Epoch: 26/30.. Training loss: 0.072.. Test loss: 0.430.. Test Accuracy: 0.895\n",
            "Epoch: 27/30.. Training loss: 0.074.. Test loss: 0.451.. Test Accuracy: 0.898\n",
            "Epoch: 28/30.. Training loss: 0.050.. Test loss: 0.575.. Test Accuracy: 0.882\n",
            "Epoch: 29/30.. Training loss: 0.055.. Test loss: 0.487.. Test Accuracy: 0.894\n",
            "Epoch: 30/30.. Training loss: 0.061.. Test loss: 0.477.. Test Accuracy: 0.896\n"
          ]
        }
      ]
    },
    {
      "metadata": {
        "id": "24VtkQ1ouMoc",
        "colab": {
          "base_uri": "https://localhost:8080/",
          "height": 448
        },
        "outputId": "a518d910-e029-4a58-e6d4-f8fcbdb4537a"
      },
      "cell_type": "code",
      "source": [
        "if isinstance(train_losses, torch.Tensor):\n",
        "    train_losses = train_losses.cpu().numpy()\n",
        "\n",
        "if isinstance(test_losses, torch.Tensor):\n",
        "    test_losses = test_losses.cpu().numpy()\n",
        "train_losses = [loss.cpu().numpy() if isinstance(loss, torch.Tensor) else loss for loss in train_losses]\n",
        "test_losses = [loss.cpu().numpy() if isinstance(loss, torch.Tensor) else loss for loss in test_losses]\n",
        "plt.plot(train_losses, label = \"Training loss\")\n",
        "plt.plot(test_losses, label = \"Validation loss\")\n",
        "plt.legend(frameon = False)"
      ],
      "execution_count": 9,
      "outputs": [
        {
          "output_type": "execute_result",
          "data": {
            "text/plain": [
              "<matplotlib.legend.Legend at 0x79df101290c0>"
            ]
          },
          "metadata": {},
          "execution_count": 9
        },
        {
          "output_type": "display_data",
          "data": {
            "text/plain": [
              "<Figure size 640x480 with 1 Axes>"
            ],
            "image/png": "[encoded data removed]"
          },
          "metadata": {}
        }
      ]
    }
  ]
}