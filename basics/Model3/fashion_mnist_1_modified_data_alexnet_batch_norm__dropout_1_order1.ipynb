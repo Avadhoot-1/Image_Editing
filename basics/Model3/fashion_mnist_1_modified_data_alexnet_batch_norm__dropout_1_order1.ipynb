{
  "nbformat": 4,
  "nbformat_minor": 0,
  "metadata": {
    "colab": {
      "provenance": [],
      "gpuType": "V28"
    },
    "kernelspec": {
      "name": "python3",
      "display_name": "Python 3"
    },
    "accelerator": "TPU"
  },
  "cells": [
    {
      "metadata": {
        "id": "Se1CMIrWeOWn"
      },
      "cell_type": "markdown",
      "source": [
        "# **Classifying Clothing Images**"
      ]
    },
    {
      "metadata": {
        "id": "T4W0Ekpvcn1U"
      },
      "cell_type": "code",
      "source": [
        "# Import the necessary libraries\n",
        "import numpy as np\n",
        "import torch\n",
        "import matplotlib.pyplot as plt"
      ],
      "execution_count": 31,
      "outputs": []
    },
    {
      "metadata": {
        "id": "A2BeI0yheafI"
      },
      "cell_type": "code",
      "source": [
        "# Loading the Fashion-MNIST dataset\n",
        "from torchvision import datasets, transforms\n",
        "from torch.utils.data import DataLoader, random_split\n",
        "# Define a transform to normalize the data\n",
        "transform = transforms.Compose([transforms.ToTensor(),\n",
        "                                transforms.Normalize((0.5,), (0.5,))\n",
        "                               ])\n",
        "\n",
        "# Download and load the training data\n",
        "trainset = datasets.FashionMNIST('MNIST_data/', download = True, train = True, transform = transform)\n",
        "testset = datasets.FashionMNIST('MNIST_data/', download = True, train = False, transform = transform)\n",
        "subset_size = int(0.4 * len(trainset))\n",
        "subset_train_data, _ = random_split(trainset, [subset_size, len(trainset) - subset_size])\n",
        "trainloader = torch.utils.data.DataLoader(subset_train_data, batch_size = 256, shuffle = True)\n",
        "testloader = torch.utils.data.DataLoader(testset, batch_size = 256, shuffle = True)"
      ],
      "execution_count": 32,
      "outputs": []
    },
    {
      "metadata": {
        "id": "7P-3bh9ajd9I",
        "outputId": "0cc19937-da40-4acc-de59-f2e4d369a35a",
        "colab": {
          "base_uri": "https://localhost:8080/"
        }
      },
      "cell_type": "code",
      "source": [
        "# Examine a sample\n",
        "dataiter = iter(trainloader)\n",
        "images, labels = next(dataiter)\n",
        "print(type(images))\n",
        "print(images.shape)\n",
        "print(labels.shape)"
      ],
      "execution_count": 33,
      "outputs": [
        {
          "output_type": "stream",
          "name": "stdout",
          "text": [
            "<class 'torch.Tensor'>\n",
            "torch.Size([256, 1, 28, 28])\n",
            "torch.Size([256])\n"
          ]
        }
      ]
    },
    {
      "metadata": {
        "id": "qLeSAPsJjysS",
        "outputId": "d8ed5235-bcbb-40cd-f462-2d8666c0fb14",
        "colab": {
          "base_uri": "https://localhost:8080/",
          "height": 448
        }
      },
      "cell_type": "code",
      "source": [
        "plt.imshow(images[1].numpy().squeeze(), cmap = 'Greys_r')"
      ],
      "execution_count": 34,
      "outputs": [
        {
          "output_type": "execute_result",
          "data": {
            "text/plain": [
              "<matplotlib.image.AxesImage at 0x79df101ba410>"
            ]
          },
          "metadata": {},
          "execution_count": 34
        },
        {
          "output_type": "display_data",
          "data": {
            "text/plain": [
              "<Figure size 640x480 with 1 Axes>"
            ],
            "image/png": "[encoded data removed]"
          },
          "metadata": {}
        }
      ]
    },
    {
      "metadata": {
        "id": "4ds0thNgkCqF",
        "colab": {
          "base_uri": "https://localhost:8080/"
        },
        "outputId": "785964c1-bab1-4d81-86b6-2ba539e36922"
      },
      "cell_type": "code",
      "source": [
        "# Define the network architecture\n",
        "from torch import nn, optim\n",
        "import torch.nn.functional as F\n",
        "# from torchsummary import summary\n",
        "if torch.cuda.is_available():\n",
        "    device = torch.device(\"cuda\")\n",
        "    print(\"CUDA is available! Using GPU for computations.\")\n",
        "else:\n",
        "    device = torch.device(\"cpu\")\n",
        "    print(\"CUDA is not available. Using CPU for computations.\")\n",
        "\n",
        "class AlexNet(nn.Module):\n",
        "    def __init__(self, num_classes: int = 1000, dropout: float = 0.1) -> None:\n",
        "        super().__init__()\n",
        "        self.features = nn.Sequential(\n",
        "            nn.Conv2d(1, 16, kernel_size=3, stride=1, padding=2),\n",
        "\n",
        "            nn.ReLU(inplace=True),\n",
        "            nn.BatchNorm2d(16),\n",
        "            nn.Dropout(p=dropout),\n",
        "            nn.MaxPool2d(kernel_size=3, stride=2),\n",
        "            nn.Conv2d(16, 64, kernel_size=5, padding=2),\n",
        "\n",
        "            nn.ReLU(inplace=True),\n",
        "            nn.BatchNorm2d(64),\n",
        "            nn.Dropout(p=dropout),\n",
        "            nn.MaxPool2d(kernel_size=3, stride=2),\n",
        "            nn.Conv2d(64, 32, kernel_size=3, padding=1),\n",
        "\n",
        "            nn.ReLU(inplace=True),\n",
        "            nn.BatchNorm2d(32),\n",
        "            nn.Dropout(p=dropout),\n",
        "            nn.Conv2d(32, 24, kernel_size=3, padding=1),\n",
        "\n",
        "            nn.ReLU(inplace=True),\n",
        "            nn.BatchNorm2d(24),\n",
        "            nn.Dropout(p=dropout),\n",
        "            nn.Conv2d(24, 24, kernel_size=3, padding=1),\n",
        "            nn.ReLU(inplace=True),\n",
        "            nn.MaxPool2d(kernel_size=3, stride=2),\n",
        "        )\n",
        "        self.avgpool = nn.AdaptiveAvgPool2d((6, 6))\n",
        "        self.classifier = nn.Sequential(\n",
        "            nn.Linear(864, 1024),\n",
        "            nn.ReLU(inplace=True),\n",
        "            nn.Linear(1024, 64),\n",
        "            nn.ReLU(inplace=True),\n",
        "            nn.Linear(64, num_classes),\n",
        "        )\n",
        "        self.log_softmax  = nn.LogSoftmax(dim = 1)\n",
        "\n",
        "    def forward(self, x: torch.Tensor) -> torch.Tensor:\n",
        "        x = self.features(x)\n",
        "        x = self.avgpool(x)\n",
        "        x = torch.flatten(x, 1)\n",
        "        x = self.classifier(x)\n",
        "        x = self.log_softmax(x)\n",
        "        return x\n",
        "\n",
        "model = AlexNet(10)\n",
        "# summary(model, (1,28,28))\n",
        "model.to(device)\n",
        "# Define the loss\n",
        "criterion = nn.NLLLoss()\n",
        "\n",
        "# Define the optimizer\n",
        "optimizer = optim.Adam(model.parameters(), lr = 0.002)\n",
        "\n",
        "def label_smoothing(act, pred):\n",
        "  return -1*(torch.sum(act*pred))"
      ],
      "execution_count": 35,
      "outputs": [
        {
          "output_type": "stream",
          "name": "stdout",
          "text": [
            "CUDA is not available. Using CPU for computations.\n"
          ]
        }
      ]
    },
    {
      "cell_type": "code",
      "source": [
        "from tqdm import tqdm\n",
        "epochs = 30\n",
        "\n",
        "train_losses, test_losses = [], []\n",
        "\n",
        "for e in range(epochs):\n",
        "  running_loss = 0\n",
        "  for images, labels in trainloader:\n",
        "    # Flatten Fashion-MNIST images into a 784 long vector\n",
        "    # images = images.view(images.shape[0], -1)\n",
        "    images = images.to(device)\n",
        "    labels = labels.to(device)\n",
        "    # Training pass\n",
        "    optimizer.zero_grad()\n",
        "\n",
        "    output = model(images)\n",
        "    # with torch.no_grad():\n",
        "    #   labels_smooth = F.one_hot(labels, 10)\n",
        "    #   labels_smooth = labels_smooth.float()\n",
        "    #   labels_smooth = labels_smooth*0.7 + 0.3/10\n",
        "    loss = criterion(output, labels)\n",
        "    loss.backward()\n",
        "    optimizer.step()\n",
        "\n",
        "    running_loss += loss.item()\n",
        "  else:\n",
        "    test_loss = 0\n",
        "    accuracy = 0\n",
        "\n",
        "    # Turn off gradients for validation, saves memory and computation\n",
        "    with torch.no_grad():\n",
        "      # Set the model to evaluation mode\n",
        "      model.eval()\n",
        "\n",
        "      # Validation pass\n",
        "      for images, labels in testloader:\n",
        "        images = images.to(device)\n",
        "        labels = labels.to(device)\n",
        "        log_ps = model(images)\n",
        "\n",
        "        test_loss += criterion(log_ps, labels)\n",
        "\n",
        "        ps = torch.exp(log_ps)\n",
        "        top_p, top_class = ps.topk(1, dim = 1)\n",
        "        equals = top_class == labels.view(*top_class.shape)\n",
        "        accuracy += torch.mean(equals.type(torch.FloatTensor))\n",
        "\n",
        "    model.train()\n",
        "    train_losses.append(running_loss/len(trainloader))\n",
        "    test_losses.append(test_loss/len(testloader))\n",
        "\n",
        "    print(\"Epoch: {}/{}..\".format(e+1, epochs),\n",
        "          \"Training loss: {:.3f}..\".format(running_loss/len(trainloader)),\n",
        "          \"Test loss: {:.3f}..\".format(test_loss/len(testloader)),\n",
        "          \"Test Accuracy: {:.3f}\".format(accuracy/len(testloader)))"
      ],
      "metadata": {
        "colab": {
          "base_uri": "https://localhost:8080/"
        },
        "id": "GEv0iPcj3tNc",
        "outputId": "294325dc-7c4a-483d-8ef1-77ea893d9ddf"
      },
      "execution_count": 36,
      "outputs": [
        {
          "output_type": "stream",
          "name": "stdout",
          "text": [
            "Epoch: 1/30.. Training loss: 0.756.. Test loss: 0.477.. Test Accuracy: 0.823\n",
            "Epoch: 2/30.. Training loss: 0.413.. Test loss: 0.472.. Test Accuracy: 0.828\n",
            "Epoch: 3/30.. Training loss: 0.367.. Test loss: 0.425.. Test Accuracy: 0.847\n",
            "Epoch: 4/30.. Training loss: 0.319.. Test loss: 0.427.. Test Accuracy: 0.854\n",
            "Epoch: 5/30.. Training loss: 0.301.. Test loss: 0.353.. Test Accuracy: 0.877\n",
            "Epoch: 6/30.. Training loss: 0.276.. Test loss: 0.454.. Test Accuracy: 0.838\n",
            "Epoch: 7/30.. Training loss: 0.263.. Test loss: 0.372.. Test Accuracy: 0.864\n",
            "Epoch: 8/30.. Training loss: 0.245.. Test loss: 0.390.. Test Accuracy: 0.871\n",
            "Epoch: 9/30.. Training loss: 0.235.. Test loss: 0.316.. Test Accuracy: 0.884\n",
            "Epoch: 10/30.. Training loss: 0.225.. Test loss: 0.326.. Test Accuracy: 0.886\n",
            "Epoch: 11/30.. Training loss: 0.218.. Test loss: 0.373.. Test Accuracy: 0.873\n",
            "Epoch: 12/30.. Training loss: 0.204.. Test loss: 0.369.. Test Accuracy: 0.875\n",
            "Epoch: 13/30.. Training loss: 0.187.. Test loss: 0.320.. Test Accuracy: 0.894\n",
            "Epoch: 14/30.. Training loss: 0.195.. Test loss: 0.357.. Test Accuracy: 0.881\n",
            "Epoch: 15/30.. Training loss: 0.177.. Test loss: 0.327.. Test Accuracy: 0.891\n",
            "Epoch: 16/30.. Training loss: 0.173.. Test loss: 0.338.. Test Accuracy: 0.885\n",
            "Epoch: 17/30.. Training loss: 0.174.. Test loss: 0.340.. Test Accuracy: 0.895\n",
            "Epoch: 18/30.. Training loss: 0.169.. Test loss: 0.335.. Test Accuracy: 0.889\n",
            "Epoch: 19/30.. Training loss: 0.162.. Test loss: 0.364.. Test Accuracy: 0.881\n",
            "Epoch: 20/30.. Training loss: 0.154.. Test loss: 0.330.. Test Accuracy: 0.894\n",
            "Epoch: 21/30.. Training loss: 0.146.. Test loss: 0.366.. Test Accuracy: 0.888\n",
            "Epoch: 22/30.. Training loss: 0.138.. Test loss: 0.363.. Test Accuracy: 0.888\n",
            "Epoch: 23/30.. Training loss: 0.143.. Test loss: 0.382.. Test Accuracy: 0.889\n",
            "Epoch: 24/30.. Training loss: 0.147.. Test loss: 0.368.. Test Accuracy: 0.892\n",
            "Epoch: 25/30.. Training loss: 0.140.. Test loss: 0.428.. Test Accuracy: 0.876\n",
            "Epoch: 26/30.. Training loss: 0.134.. Test loss: 0.355.. Test Accuracy: 0.892\n",
            "Epoch: 27/30.. Training loss: 0.131.. Test loss: 0.402.. Test Accuracy: 0.882\n",
            "Epoch: 28/30.. Training loss: 0.132.. Test loss: 0.343.. Test Accuracy: 0.895\n",
            "Epoch: 29/30.. Training loss: 0.126.. Test loss: 0.360.. Test Accuracy: 0.899\n",
            "Epoch: 30/30.. Training loss: 0.120.. Test loss: 0.372.. Test Accuracy: 0.898\n"
          ]
        }
      ]
    },
    {
      "metadata": {
        "id": "24VtkQ1ouMoc",
        "colab": {
          "base_uri": "https://localhost:8080/",
          "height": 448
        },
        "outputId": "2eff1c7b-efe8-4344-dfc8-0048c552c282"
      },
      "cell_type": "code",
      "source": [
        "if isinstance(train_losses, torch.Tensor):\n",
        "    train_losses = train_losses.cpu().numpy()\n",
        "\n",
        "if isinstance(test_losses, torch.Tensor):\n",
        "    test_losses = test_losses.cpu().numpy()\n",
        "train_losses = [loss.cpu().numpy() if isinstance(loss, torch.Tensor) else loss for loss in train_losses]\n",
        "test_losses = [loss.cpu().numpy() if isinstance(loss, torch.Tensor) else loss for loss in test_losses]\n",
        "plt.plot(train_losses, label = \"Training loss\")\n",
        "plt.plot(test_losses, label = \"Validation loss\")\n",
        "plt.legend(frameon = False)"
      ],
      "execution_count": 37,
      "outputs": [
        {
          "output_type": "execute_result",
          "data": {
            "text/plain": [
              "<matplotlib.legend.Legend at 0x79df0fc98070>"
            ]
          },
          "metadata": {},
          "execution_count": 37
        },
        {
          "output_type": "display_data",
          "data": {
            "text/plain": [
              "<Figure size 640x480 with 1 Axes>"
            ],
            "image/png": "[encoded data removed]"
          },
          "metadata": {}
        }
      ]
    }
  ]
}