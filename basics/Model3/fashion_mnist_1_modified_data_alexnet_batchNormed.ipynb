{
  "nbformat": 4,
  "nbformat_minor": 0,
  "metadata": {
    "colab": {
      "provenance": [],
      "gpuType": "T4"
    },
    "kernelspec": {
      "name": "python3",
      "display_name": "Python 3"
    },
    "accelerator": "GPU"
  },
  "cells": [
    {
      "metadata": {
        "id": "Se1CMIrWeOWn"
      },
      "cell_type": "markdown",
      "source": [
        "# **Classifying Clothing Images**"
      ]
    },
    {
      "metadata": {
        "id": "T4W0Ekpvcn1U"
      },
      "cell_type": "code",
      "source": [
        "# Import the necessary libraries\n",
        "import numpy as np\n",
        "import torch\n",
        "import matplotlib.pyplot as plt"
      ],
      "execution_count": 33,
      "outputs": []
    },
    {
      "metadata": {
        "id": "A2BeI0yheafI"
      },
      "cell_type": "code",
      "source": [
        "# Loading the Fashion-MNIST dataset\n",
        "from torchvision import datasets, transforms\n",
        "from torch.utils.data import DataLoader, random_split\n",
        "# Define a transform to normalize the data\n",
        "transform = transforms.Compose([transforms.ToTensor(),\n",
        "                                transforms.Normalize((0.5,), (0.5,))\n",
        "                               ])\n",
        "\n",
        "# Download and load the training data\n",
        "trainset = datasets.FashionMNIST('MNIST_data/', download = True, train = True, transform = transform)\n",
        "testset = datasets.FashionMNIST('MNIST_data/', download = True, train = False, transform = transform)\n",
        "subset_size = int(0.4 * len(trainset))\n",
        "subset_train_data, _ = random_split(trainset, [subset_size, len(trainset) - subset_size])\n",
        "trainloader = torch.utils.data.DataLoader(subset_train_data, batch_size = 64, shuffle = True)\n",
        "testloader = torch.utils.data.DataLoader(testset, batch_size = 64, shuffle = True)"
      ],
      "execution_count": 34,
      "outputs": []
    },
    {
      "metadata": {
        "id": "7P-3bh9ajd9I",
        "outputId": "a388ce8b-9833-4d7c-fccc-7fecc5e7ea1b",
        "colab": {
          "base_uri": "https://localhost:8080/"
        }
      },
      "cell_type": "code",
      "source": [
        "# Examine a sample\n",
        "dataiter = iter(trainloader)\n",
        "images, labels = next(dataiter)\n",
        "print(type(images))\n",
        "print(images.shape)\n",
        "print(labels.shape)"
      ],
      "execution_count": 35,
      "outputs": [
        {
          "output_type": "stream",
          "name": "stdout",
          "text": [
            "<class 'torch.Tensor'>\n",
            "torch.Size([64, 1, 28, 28])\n",
            "torch.Size([64])\n"
          ]
        }
      ]
    },
    {
      "metadata": {
        "id": "qLeSAPsJjysS",
        "outputId": "8ef4c096-f42d-42a7-d214-52030e0a80e3",
        "colab": {
          "base_uri": "https://localhost:8080/",
          "height": 448
        }
      },
      "cell_type": "code",
      "source": [
        "plt.imshow(images[1].numpy().squeeze(), cmap = 'Greys_r')"
      ],
      "execution_count": 36,
      "outputs": [
        {
          "output_type": "execute_result",
          "data": {
            "text/plain": [
              "<matplotlib.image.AxesImage at 0x7c900035e0b0>"
            ]
          },
          "metadata": {},
          "execution_count": 36
        },
        {
          "output_type": "display_data",
          "data": {
            "text/plain": [
              "<Figure size 640x480 with 1 Axes>"
            ],
            "image/png": "[encoded data removed]"
          },
          "metadata": {}
        }
      ]
    },
    {
      "metadata": {
        "id": "4ds0thNgkCqF",
        "colab": {
          "base_uri": "https://localhost:8080/"
        },
        "outputId": "b544a404-d085-4863-87f2-dfca8181db7f"
      },
      "cell_type": "code",
      "source": [
        "# Define the network architecture\n",
        "from torch import nn, optim\n",
        "import torch.nn.functional as F\n",
        "from torchsummary import summary\n",
        "if torch.cuda.is_available():\n",
        "    device = torch.device(\"cuda\")\n",
        "    print(\"CUDA is available! Using GPU for computations.\")\n",
        "else:\n",
        "    device = torch.device(\"cpu\")\n",
        "    print(\"CUDA is not available. Using CPU for computations.\")\n",
        "\n",
        "class AlexNet(nn.Module):\n",
        "    def __init__(self, num_classes: int = 1000, dropout: float = 0.7) -> None:\n",
        "        super().__init__()\n",
        "        self.features = nn.Sequential(\n",
        "            nn.Conv2d(1, 16, kernel_size=3, stride=1, padding=2),\n",
        "            nn.BatchNorm2d(16),\n",
        "            nn.ReLU(inplace=True),\n",
        "            nn.MaxPool2d(kernel_size=3, stride=2),\n",
        "            nn.Conv2d(16, 64, kernel_size=5, padding=2),\n",
        "            nn.BatchNorm2d(64),\n",
        "            nn.ReLU(inplace=True),\n",
        "            nn.MaxPool2d(kernel_size=3, stride=2),\n",
        "            nn.Conv2d(64, 32, kernel_size=3, padding=1),\n",
        "            nn.BatchNorm2d(32),\n",
        "            nn.ReLU(inplace=True),\n",
        "            nn.Conv2d(32, 24, kernel_size=3, padding=1),\n",
        "            nn.BatchNorm2d(24),\n",
        "            nn.ReLU(inplace=True),\n",
        "            nn.Conv2d(24, 24, kernel_size=3, padding=1),\n",
        "            nn.BatchNorm2d(24),\n",
        "            nn.ReLU(inplace=True),\n",
        "            nn.MaxPool2d(kernel_size=3, stride=2),\n",
        "        )\n",
        "        self.avgpool = nn.AdaptiveAvgPool2d((6, 6))\n",
        "        self.classifier = nn.Sequential(\n",
        "            # nn.Dropout(p=dropout),\n",
        "            nn.Linear(864, 1024),\n",
        "            nn.ReLU(inplace=True),\n",
        "            # nn.Dropout(p=dropout),\n",
        "            nn.Linear(1024, 64),\n",
        "            nn.ReLU(inplace=True),\n",
        "            nn.Linear(64, num_classes),\n",
        "        )\n",
        "        self.log_softmax  = nn.LogSoftmax(dim = 1)\n",
        "\n",
        "    def forward(self, x: torch.Tensor) -> torch.Tensor:\n",
        "        x = self.features(x)\n",
        "        x = self.avgpool(x)\n",
        "        x = torch.flatten(x, 1)\n",
        "        x = self.classifier(x)\n",
        "        x = self.log_softmax(x)\n",
        "        return x\n",
        "\n",
        "model = AlexNet(10)\n",
        "# summary(model, (1,28,28))\n",
        "model.to(device)\n",
        "# Define the loss\n",
        "criterion = nn.NLLLoss()\n",
        "\n",
        "# Define the optimizer\n",
        "optimizer = optim.Adam(model.parameters(), lr = 0.002)\n",
        "\n",
        "def label_smoothing(act, pred):\n",
        "  return -1*(torch.sum(act*pred)/act.shape[0])"
      ],
      "execution_count": 37,
      "outputs": [
        {
          "output_type": "stream",
          "name": "stdout",
          "text": [
            "CUDA is available! Using GPU for computations.\n"
          ]
        }
      ]
    },
    {
      "cell_type": "code",
      "source": [
        "from tqdm import tqdm\n",
        "epochs = 30\n",
        "\n",
        "train_losses, test_losses = [], []\n",
        "\n",
        "for e in range(epochs):\n",
        "  running_loss = 0\n",
        "  for images, labels in trainloader:\n",
        "    # Flatten Fashion-MNIST images into a 784 long vector\n",
        "    # images = images.view(images.shape[0], -1)\n",
        "    images = images.to(device)\n",
        "    labels = labels.to(device)\n",
        "    # Training pass\n",
        "    optimizer.zero_grad()\n",
        "\n",
        "    output = model(images)\n",
        "    # with torch.no_grad():\n",
        "    #   labels_smooth = F.one_hot(labels, 10)\n",
        "    #   labels_smooth = labels_smooth.float()\n",
        "    #   labels_smooth = labels_smooth*0.7 + 0.3/10\n",
        "    loss = criterion(output, labels)\n",
        "    loss.backward()\n",
        "    optimizer.step()\n",
        "\n",
        "    running_loss += loss.item()\n",
        "  else:\n",
        "    test_loss = 0\n",
        "    accuracy = 0\n",
        "\n",
        "    # Turn off gradients for validation, saves memory and computation\n",
        "    with torch.no_grad():\n",
        "      # Set the model to evaluation mode\n",
        "      model.eval()\n",
        "\n",
        "      # Validation pass\n",
        "      for images, labels in testloader:\n",
        "        images = images.to(device)\n",
        "        labels = labels.to(device)\n",
        "        log_ps = model(images)\n",
        "\n",
        "        test_loss += criterion(log_ps, labels)\n",
        "\n",
        "        ps = torch.exp(log_ps)\n",
        "        top_p, top_class = ps.topk(1, dim = 1)\n",
        "        equals = top_class == labels.view(*top_class.shape)\n",
        "        accuracy += torch.mean(equals.type(torch.FloatTensor))\n",
        "\n",
        "    model.train()\n",
        "    train_losses.append(running_loss/len(trainloader))\n",
        "    test_losses.append(test_loss/len(testloader))\n",
        "\n",
        "    print(\"Epoch: {}/{}..\".format(e+1, epochs),\n",
        "          \"Training loss: {:.3f}..\".format(running_loss/len(trainloader)),\n",
        "          \"Test loss: {:.3f}..\".format(test_loss/len(testloader)),\n",
        "          \"Test Accuracy: {:.3f}\".format(accuracy/len(testloader)))"
      ],
      "metadata": {
        "colab": {
          "base_uri": "https://localhost:8080/"
        },
        "id": "GEv0iPcj3tNc",
        "outputId": "5460a6f5-cdb8-4370-b015-cd3e08acb34f"
      },
      "execution_count": 40,
      "outputs": [
        {
          "output_type": "stream",
          "name": "stdout",
          "text": [
            "Epoch: 1/30.. Training loss: 0.652.. Test loss: 0.435.. Test Accuracy: 0.842\n",
            "Epoch: 2/30.. Training loss: 0.392.. Test loss: 0.380.. Test Accuracy: 0.862\n",
            "Epoch: 3/30.. Training loss: 0.343.. Test loss: 0.384.. Test Accuracy: 0.863\n",
            "Epoch: 4/30.. Training loss: 0.304.. Test loss: 0.415.. Test Accuracy: 0.854\n",
            "Epoch: 5/30.. Training loss: 0.283.. Test loss: 0.353.. Test Accuracy: 0.869\n",
            "Epoch: 6/30.. Training loss: 0.259.. Test loss: 0.324.. Test Accuracy: 0.884\n",
            "Epoch: 7/30.. Training loss: 0.248.. Test loss: 0.338.. Test Accuracy: 0.878\n",
            "Epoch: 8/30.. Training loss: 0.236.. Test loss: 0.323.. Test Accuracy: 0.892\n",
            "Epoch: 9/30.. Training loss: 0.217.. Test loss: 0.321.. Test Accuracy: 0.894\n",
            "Epoch: 10/30.. Training loss: 0.206.. Test loss: 0.345.. Test Accuracy: 0.884\n",
            "Epoch: 11/30.. Training loss: 0.195.. Test loss: 0.310.. Test Accuracy: 0.899\n",
            "Epoch: 12/30.. Training loss: 0.185.. Test loss: 0.317.. Test Accuracy: 0.895\n",
            "Epoch: 13/30.. Training loss: 0.174.. Test loss: 0.297.. Test Accuracy: 0.895\n",
            "Epoch: 14/30.. Training loss: 0.164.. Test loss: 0.336.. Test Accuracy: 0.897\n",
            "Epoch: 15/30.. Training loss: 0.156.. Test loss: 0.357.. Test Accuracy: 0.891\n",
            "Epoch: 16/30.. Training loss: 0.151.. Test loss: 0.330.. Test Accuracy: 0.897\n",
            "Epoch: 17/30.. Training loss: 0.140.. Test loss: 0.369.. Test Accuracy: 0.883\n",
            "Epoch: 18/30.. Training loss: 0.138.. Test loss: 0.321.. Test Accuracy: 0.905\n",
            "Epoch: 19/30.. Training loss: 0.126.. Test loss: 0.310.. Test Accuracy: 0.904\n",
            "Epoch: 20/30.. Training loss: 0.122.. Test loss: 0.428.. Test Accuracy: 0.875\n",
            "Epoch: 21/30.. Training loss: 0.122.. Test loss: 0.343.. Test Accuracy: 0.903\n",
            "Epoch: 22/30.. Training loss: 0.116.. Test loss: 0.364.. Test Accuracy: 0.903\n",
            "Epoch: 23/30.. Training loss: 0.096.. Test loss: 0.387.. Test Accuracy: 0.900\n",
            "Epoch: 24/30.. Training loss: 0.101.. Test loss: 0.398.. Test Accuracy: 0.891\n",
            "Epoch: 25/30.. Training loss: 0.101.. Test loss: 0.407.. Test Accuracy: 0.901\n",
            "Epoch: 26/30.. Training loss: 0.095.. Test loss: 0.417.. Test Accuracy: 0.895\n",
            "Epoch: 27/30.. Training loss: 0.099.. Test loss: 0.380.. Test Accuracy: 0.902\n",
            "Epoch: 28/30.. Training loss: 0.082.. Test loss: 0.401.. Test Accuracy: 0.901\n",
            "Epoch: 29/30.. Training loss: 0.079.. Test loss: 0.446.. Test Accuracy: 0.900\n",
            "Epoch: 30/30.. Training loss: 0.081.. Test loss: 0.433.. Test Accuracy: 0.900\n"
          ]
        }
      ]
    },
    {
      "metadata": {
        "id": "24VtkQ1ouMoc",
        "colab": {
          "base_uri": "https://localhost:8080/",
          "height": 448
        },
        "outputId": "9a46fe8d-2591-4a3f-ff08-477d0886ad12"
      },
      "cell_type": "code",
      "source": [
        "if isinstance(train_losses, torch.Tensor):\n",
        "    train_losses = train_losses.cpu().numpy()\n",
        "\n",
        "if isinstance(test_losses, torch.Tensor):\n",
        "    test_losses = test_losses.cpu().numpy()\n",
        "train_losses = [loss.cpu().numpy() if isinstance(loss, torch.Tensor) else loss for loss in train_losses]\n",
        "test_losses = [loss.cpu().numpy() if isinstance(loss, torch.Tensor) else loss for loss in test_losses]\n",
        "plt.plot(train_losses, label = \"Training loss\")\n",
        "plt.plot(test_losses, label = \"Validation loss\")\n",
        "plt.legend(frameon = False)"
      ],
      "execution_count": 41,
      "outputs": [
        {
          "output_type": "execute_result",
          "data": {
            "text/plain": [
              "<matplotlib.legend.Legend at 0x7c900d018f40>"
            ]
          },
          "metadata": {},
          "execution_count": 41
        },
        {
          "output_type": "display_data",
          "data": {
            "text/plain": [
              "<Figure size 640x480 with 1 Axes>"
            ],
            "image/png": "[encoded data removed]"
          },
          "metadata": {}
        }
      ]
    }
  ]
}