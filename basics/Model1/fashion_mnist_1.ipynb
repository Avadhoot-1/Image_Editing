{
  "nbformat": 4,
  "nbformat_minor": 0,
  "metadata": {
    "colab": {
      "provenance": []
    },
    "kernelspec": {
      "name": "python3",
      "display_name": "Python 3"
    },
    "accelerator": "GPU"
  },
  "cells": [
    {
      "metadata": {
        "id": "Se1CMIrWeOWn"
      },
      "cell_type": "markdown",
      "source": [
        "# **Classifying Clothing Images**"
      ]
    },
    {
      "metadata": {
        "id": "T4W0Ekpvcn1U"
      },
      "cell_type": "code",
      "source": [
        "# Import the necessary libraries\n",
        "import numpy as np\n",
        "import torch\n",
        "import matplotlib.pyplot as plt"
      ],
      "execution_count": 1,
      "outputs": []
    },
    {
      "metadata": {
        "id": "A2BeI0yheafI"
      },
      "cell_type": "code",
      "source": [
        "# Loading the Fashion-MNIST dataset\n",
        "from torchvision import datasets, transforms\n",
        "\n",
        "# Define a transform to normalize the data\n",
        "transform = transforms.Compose([transforms.ToTensor(),\n",
        "                                transforms.Normalize((0.5,), (0.5,))\n",
        "                               ])\n",
        "\n",
        "# Download and load the training data\n",
        "trainset = datasets.FashionMNIST('MNIST_data/', download = True, train = True, transform = transform)\n",
        "testset = datasets.FashionMNIST('MNIST_data/', download = True, train = False, transform = transform)\n",
        "trainloader = torch.utils.data.DataLoader(trainset, batch_size = 64, shuffle = True)\n",
        "testloader = torch.utils.data.DataLoader(testset, batch_size = 64, shuffle = True)"
      ],
      "execution_count": 6,
      "outputs": []
    },
    {
      "metadata": {
        "id": "7P-3bh9ajd9I",
        "outputId": "0f123b1c-9fd3-46d8-b918-53c2e7756926",
        "colab": {
          "base_uri": "https://localhost:8080/"
        }
      },
      "cell_type": "code",
      "source": [
        "# Examine a sample\n",
        "dataiter = iter(trainloader)\n",
        "images, labels = next(dataiter)\n",
        "print(type(images))\n",
        "print(images.shape)\n",
        "print(labels.shape)"
      ],
      "execution_count": 7,
      "outputs": [
        {
          "output_type": "stream",
          "name": "stdout",
          "text": [
            "<class 'torch.Tensor'>\n",
            "torch.Size([64, 1, 28, 28])\n",
            "torch.Size([64])\n"
          ]
        }
      ]
    },
    {
      "metadata": {
        "id": "qLeSAPsJjysS",
        "outputId": "d1632b51-37d0-42b3-c316-d9c3205857ef",
        "colab": {
          "base_uri": "https://localhost:8080/",
          "height": 448
        }
      },
      "cell_type": "code",
      "source": [
        "plt.imshow(images[1].numpy().squeeze(), cmap = 'Greys_r')"
      ],
      "execution_count": 8,
      "outputs": [
        {
          "output_type": "execute_result",
          "data": {
            "text/plain": [
              "<matplotlib.image.AxesImage at 0x7d0d589d2ef0>"
            ]
          },
          "metadata": {},
          "execution_count": 8
        },
        {
          "output_type": "display_data",
          "data": {
            "text/plain": [
              "<Figure size 640x480 with 1 Axes>"
            ],
            "image/png": "[encoded data removed]"
          },
          "metadata": {}
        }
      ]
    },
    {
      "metadata": {
        "id": "4ds0thNgkCqF",
        "outputId": "d7182415-c35b-42f6-d8d1-8ebaaf54742d",
        "colab": {
          "base_uri": "https://localhost:8080/"
        }
      },
      "cell_type": "code",
      "source": [
        "# Define the network architecture\n",
        "from torch import nn, optim\n",
        "import torch.nn.functional as F\n",
        "\n",
        "model = nn.Sequential(nn.Conv2d(1,3, kernel_size=3, stride=1, padding=1),\n",
        "                      nn.ReLU(inplace=True),\n",
        "                      nn.MaxPool2d(kernel_size=2, stride=2),\n",
        "                      nn.Flatten(),\n",
        "                      nn.Linear(14*14*3, 256),\n",
        "                      nn.ReLU(),\n",
        "                      nn.Dropout(0.2),\n",
        "                      nn.Linear(256, 128),\n",
        "                      nn.ReLU(),\n",
        "                      nn.Dropout(0.2),\n",
        "                      nn.Linear(128, 64),\n",
        "                      nn.ReLU(),\n",
        "                      nn.Dropout(0.2),\n",
        "                      nn.Linear(64, 10),\n",
        "                      nn.LogSoftmax(dim = 1)\n",
        "                     )\n",
        "\n",
        "# Define the loss\n",
        "criterion = nn.NLLLoss()\n",
        "\n",
        "# Define the optimizer\n",
        "optimizer = optim.Adam(model.parameters(), lr = 0.002)\n",
        "\n",
        "# Define the epochs\n",
        "epochs = 30\n",
        "\n",
        "train_losses, test_losses = [], []\n",
        "\n",
        "for e in range(epochs):\n",
        "  running_loss = 0\n",
        "  for images, labels in trainloader:\n",
        "    # Flatten Fashion-MNIST images into a 784 long vector\n",
        "    # images = images.view(images.shape[0], -1)\n",
        "\n",
        "    # Training pass\n",
        "    optimizer.zero_grad()\n",
        "\n",
        "    output = model(images)\n",
        "    loss = criterion(output, labels)\n",
        "    loss.backward()\n",
        "    optimizer.step()\n",
        "\n",
        "    running_loss += loss.item()\n",
        "  else:\n",
        "    test_loss = 0\n",
        "    accuracy = 0\n",
        "\n",
        "    # Turn off gradients for validation, saves memory and computation\n",
        "    with torch.no_grad():\n",
        "      # Set the model to evaluation mode\n",
        "      model.eval()\n",
        "\n",
        "      # Validation pass\n",
        "      for images, labels in testloader:\n",
        "        log_ps = model(images)\n",
        "\n",
        "        test_loss += criterion(log_ps, labels)\n",
        "\n",
        "        ps = torch.exp(log_ps)\n",
        "        top_p, top_class = ps.topk(1, dim = 1)\n",
        "        equals = top_class == labels.view(*top_class.shape)\n",
        "        accuracy += torch.mean(equals.type(torch.FloatTensor))\n",
        "\n",
        "    model.train()\n",
        "    train_losses.append(running_loss/len(trainloader))\n",
        "    test_losses.append(test_loss/len(testloader))\n",
        "\n",
        "    print(\"Epoch: {}/{}..\".format(e+1, epochs),\n",
        "          \"Training loss: {:.3f}..\".format(running_loss/len(trainloader)),\n",
        "          \"Test loss: {:.3f}..\".format(test_loss/len(testloader)),\n",
        "          \"Test Accuracy: {:.3f}\".format(accuracy/len(testloader)))"
      ],
      "execution_count": 13,
      "outputs": [
        {
          "output_type": "stream",
          "name": "stdout",
          "text": [
            "Epoch: 1/30.. Training loss: 0.552.. Test loss: 0.392.. Test Accuracy: 0.858\n",
            "Epoch: 2/30.. Training loss: 0.374.. Test loss: 0.351.. Test Accuracy: 0.874\n",
            "Epoch: 3/30.. Training loss: 0.328.. Test loss: 0.334.. Test Accuracy: 0.877\n",
            "Epoch: 4/30.. Training loss: 0.299.. Test loss: 0.308.. Test Accuracy: 0.886\n",
            "Epoch: 5/30.. Training loss: 0.278.. Test loss: 0.302.. Test Accuracy: 0.887\n",
            "Epoch: 6/30.. Training loss: 0.259.. Test loss: 0.289.. Test Accuracy: 0.895\n",
            "Epoch: 7/30.. Training loss: 0.243.. Test loss: 0.287.. Test Accuracy: 0.898\n",
            "Epoch: 8/30.. Training loss: 0.230.. Test loss: 0.292.. Test Accuracy: 0.895\n",
            "Epoch: 9/30.. Training loss: 0.221.. Test loss: 0.285.. Test Accuracy: 0.898\n",
            "Epoch: 10/30.. Training loss: 0.212.. Test loss: 0.286.. Test Accuracy: 0.900\n",
            "Epoch: 11/30.. Training loss: 0.199.. Test loss: 0.313.. Test Accuracy: 0.898\n",
            "Epoch: 12/30.. Training loss: 0.192.. Test loss: 0.303.. Test Accuracy: 0.896\n",
            "Epoch: 13/30.. Training loss: 0.188.. Test loss: 0.297.. Test Accuracy: 0.902\n",
            "Epoch: 14/30.. Training loss: 0.176.. Test loss: 0.288.. Test Accuracy: 0.907\n",
            "Epoch: 15/30.. Training loss: 0.171.. Test loss: 0.305.. Test Accuracy: 0.904\n",
            "Epoch: 16/30.. Training loss: 0.166.. Test loss: 0.314.. Test Accuracy: 0.898\n",
            "Epoch: 17/30.. Training loss: 0.163.. Test loss: 0.308.. Test Accuracy: 0.902\n",
            "Epoch: 18/30.. Training loss: 0.157.. Test loss: 0.321.. Test Accuracy: 0.905\n",
            "Epoch: 19/30.. Training loss: 0.149.. Test loss: 0.333.. Test Accuracy: 0.901\n",
            "Epoch: 20/30.. Training loss: 0.148.. Test loss: 0.333.. Test Accuracy: 0.904\n",
            "Epoch: 21/30.. Training loss: 0.144.. Test loss: 0.336.. Test Accuracy: 0.902\n",
            "Epoch: 22/30.. Training loss: 0.139.. Test loss: 0.352.. Test Accuracy: 0.899\n",
            "Epoch: 23/30.. Training loss: 0.136.. Test loss: 0.359.. Test Accuracy: 0.899\n",
            "Epoch: 24/30.. Training loss: 0.135.. Test loss: 0.344.. Test Accuracy: 0.899\n",
            "Epoch: 25/30.. Training loss: 0.130.. Test loss: 0.373.. Test Accuracy: 0.904\n",
            "Epoch: 26/30.. Training loss: 0.124.. Test loss: 0.353.. Test Accuracy: 0.902\n",
            "Epoch: 27/30.. Training loss: 0.122.. Test loss: 0.391.. Test Accuracy: 0.898\n",
            "Epoch: 28/30.. Training loss: 0.119.. Test loss: 0.402.. Test Accuracy: 0.905\n",
            "Epoch: 29/30.. Training loss: 0.120.. Test loss: 0.371.. Test Accuracy: 0.907\n",
            "Epoch: 30/30.. Training loss: 0.117.. Test loss: 0.390.. Test Accuracy: 0.902\n"
          ]
        }
      ]
    },
    {
      "metadata": {
        "id": "24VtkQ1ouMoc",
        "colab": {
          "base_uri": "https://localhost:8080/",
          "height": 448
        },
        "outputId": "957e8f35-98d1-4a33-d071-a861388849f1"
      },
      "cell_type": "code",
      "source": [
        "plt.plot(train_losses, label = \"Training loss\")\n",
        "plt.plot(test_losses, label = \"Validation loss\")\n",
        "plt.legend(frameon = False)"
      ],
      "execution_count": 14,
      "outputs": [
        {
          "output_type": "execute_result",
          "data": {
            "text/plain": [
              "<matplotlib.legend.Legend at 0x7d0d584f67d0>"
            ]
          },
          "metadata": {},
          "execution_count": 14
        },
        {
          "output_type": "display_data",
          "data": {
            "text/plain": [
              "<Figure size 640x480 with 1 Axes>"
            ],
            "image/png": "[encoded data removed]"
          },
          "metadata": {}
        }
      ]
    },
    {
      "cell_type": "code",
      "source": [],
      "metadata": {
        "id": "BChfkPP5rcIM"
      },
      "execution_count": null,
      "outputs": []
    },
    {
      "cell_type": "code",
      "source": [],
      "metadata": {
        "id": "dVPhThe6rcOZ"
      },
      "execution_count": null,
      "outputs": []
    }
  ]
}