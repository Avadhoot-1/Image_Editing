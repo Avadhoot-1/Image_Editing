{
  "nbformat": 4,
  "nbformat_minor": 0,
  "metadata": {
    "colab": {
      "provenance": [],
      "gpuType": "T4"
    },
    "kernelspec": {
      "name": "python3",
      "display_name": "Python 3"
    },
    "accelerator": "GPU"
  },
  "cells": [
    {
      "metadata": {
        "id": "Se1CMIrWeOWn"
      },
      "cell_type": "markdown",
      "source": [
        "# **Classifying Clothing Images**"
      ]
    },
    {
      "metadata": {
        "id": "T4W0Ekpvcn1U"
      },
      "cell_type": "code",
      "source": [
        "# Import the necessary libraries\n",
        "import numpy as np\n",
        "import torch\n",
        "import matplotlib.pyplot as plt"
      ],
      "execution_count": 10,
      "outputs": []
    },
    {
      "metadata": {
        "id": "A2BeI0yheafI"
      },
      "cell_type": "code",
      "source": [
        "# Loading the Fashion-MNIST dataset\n",
        "from torchvision import datasets, transforms\n",
        "from torch.utils.data import DataLoader, random_split\n",
        "# Define a transform to normalize the data\n",
        "transform = transforms.Compose([transforms.ToTensor(),\n",
        "                                transforms.Normalize((0.5,), (0.5,))\n",
        "                               ])\n",
        "\n",
        "# Download and load the training data\n",
        "trainset = datasets.FashionMNIST('MNIST_data/', download = True, train = True, transform = transform)\n",
        "testset = datasets.FashionMNIST('MNIST_data/', download = True, train = False, transform = transform)\n",
        "subset_size = int(0.4 * len(trainset))\n",
        "subset_train_data, _ = random_split(trainset, [subset_size, len(trainset) - subset_size])\n",
        "trainloader = torch.utils.data.DataLoader(subset_train_data, batch_size = 64, shuffle = True)\n",
        "testloader = torch.utils.data.DataLoader(testset, batch_size = 64, shuffle = True)"
      ],
      "execution_count": 11,
      "outputs": []
    },
    {
      "metadata": {
        "id": "7P-3bh9ajd9I",
        "outputId": "eac2f7af-93ba-49a2-c5ab-016c5d8e705e",
        "colab": {
          "base_uri": "https://localhost:8080/"
        }
      },
      "cell_type": "code",
      "source": [
        "# Examine a sample\n",
        "dataiter = iter(trainloader)\n",
        "images, labels = next(dataiter)\n",
        "print(type(images))\n",
        "print(images.shape)\n",
        "print(labels.shape)"
      ],
      "execution_count": 12,
      "outputs": [
        {
          "output_type": "stream",
          "name": "stdout",
          "text": [
            "<class 'torch.Tensor'>\n",
            "torch.Size([64, 1, 28, 28])\n",
            "torch.Size([64])\n"
          ]
        }
      ]
    },
    {
      "metadata": {
        "id": "qLeSAPsJjysS",
        "outputId": "6fd0d111-854d-42b3-b41c-1910beeba31f",
        "colab": {
          "base_uri": "https://localhost:8080/",
          "height": 448
        }
      },
      "cell_type": "code",
      "source": [
        "plt.imshow(images[1].numpy().squeeze(), cmap = 'Greys_r')"
      ],
      "execution_count": 13,
      "outputs": [
        {
          "output_type": "execute_result",
          "data": {
            "text/plain": [
              "<matplotlib.image.AxesImage at 0x7c90003337f0>"
            ]
          },
          "metadata": {},
          "execution_count": 13
        },
        {
          "output_type": "display_data",
          "data": {
            "text/plain": [
              "<Figure size 640x480 with 1 Axes>"
            ],
            "image/png": "[encoded data removed]"
          },
          "metadata": {}
        }
      ]
    },
    {
      "metadata": {
        "id": "4ds0thNgkCqF",
        "colab": {
          "base_uri": "https://localhost:8080/"
        },
        "outputId": "73921f73-2dbc-4631-e150-4beef5753a93"
      },
      "cell_type": "code",
      "source": [
        "# Define the network architecture\n",
        "from torch import nn, optim\n",
        "import torch.nn.functional as F\n",
        "from torchsummary import summary\n",
        "if torch.cuda.is_available():\n",
        "    device = torch.device(\"cuda\")\n",
        "    print(\"CUDA is available! Using GPU for computations.\")\n",
        "else:\n",
        "    device = torch.device(\"cpu\")\n",
        "    print(\"CUDA is not available. Using CPU for computations.\")\n",
        "\n",
        "class AlexNet(nn.Module):\n",
        "    def __init__(self, num_classes: int = 1000, dropout: float = 0.5) -> None:\n",
        "        super().__init__()\n",
        "        self.features = nn.Sequential(\n",
        "            nn.Conv2d(1, 16, kernel_size=3, stride=1, padding=2),\n",
        "            nn.ReLU(inplace=True),\n",
        "            nn.MaxPool2d(kernel_size=3, stride=2),\n",
        "            nn.Conv2d(16, 64, kernel_size=5, padding=2),\n",
        "            nn.ReLU(inplace=True),\n",
        "            nn.MaxPool2d(kernel_size=3, stride=2),\n",
        "            nn.Conv2d(64, 32, kernel_size=3, padding=1),\n",
        "            nn.ReLU(inplace=True),\n",
        "            nn.Conv2d(32, 24, kernel_size=3, padding=1),\n",
        "            nn.ReLU(inplace=True),\n",
        "            nn.Conv2d(24, 24, kernel_size=3, padding=1),\n",
        "            nn.ReLU(inplace=True),\n",
        "            nn.MaxPool2d(kernel_size=3, stride=2),\n",
        "        )\n",
        "        self.avgpool = nn.AdaptiveAvgPool2d((6, 6))\n",
        "        self.classifier = nn.Sequential(\n",
        "            nn.Dropout(p=dropout),\n",
        "            nn.Linear(864, 1024),\n",
        "            nn.ReLU(inplace=True),\n",
        "            nn.Dropout(p=dropout),\n",
        "            nn.Linear(1024, 64),\n",
        "            nn.ReLU(inplace=True),\n",
        "            nn.Linear(64, num_classes),\n",
        "        )\n",
        "        self.log_softmax  = nn.LogSoftmax(dim = 1)\n",
        "\n",
        "    def forward(self, x: torch.Tensor) -> torch.Tensor:\n",
        "        x = self.features(x)\n",
        "        x = self.avgpool(x)\n",
        "        x = torch.flatten(x, 1)\n",
        "        x = self.classifier(x)\n",
        "        x = self.log_softmax(x)\n",
        "        return x\n",
        "\n",
        "model = AlexNet(10)\n",
        "# summary(model, (1,28,28))\n",
        "model.to(device)\n",
        "# Define the loss\n",
        "criterion = nn.NLLLoss()\n",
        "\n",
        "# Define the optimizer\n",
        "optimizer = optim.Adam(model.parameters(), lr = 0.002)\n",
        "\n",
        "def label_smoothing(act, pred):\n",
        "  return -1*(torch.sum(act*pred))"
      ],
      "execution_count": 14,
      "outputs": [
        {
          "output_type": "stream",
          "name": "stdout",
          "text": [
            "CUDA is available! Using GPU for computations.\n"
          ]
        }
      ]
    },
    {
      "cell_type": "code",
      "source": [
        "from tqdm import tqdm\n",
        "epochs = 30\n",
        "\n",
        "train_losses, test_losses = [], []\n",
        "\n",
        "for e in range(epochs):\n",
        "  running_loss = 0\n",
        "  for images, labels in trainloader:\n",
        "    # Flatten Fashion-MNIST images into a 784 long vector\n",
        "    # images = images.view(images.shape[0], -1)\n",
        "    images = images.to(device)\n",
        "    labels = labels.to(device)\n",
        "    # Training pass\n",
        "    optimizer.zero_grad()\n",
        "\n",
        "    output = model(images)\n",
        "    # with torch.no_grad():\n",
        "    #   labels_smooth = F.one_hot(labels, 10)\n",
        "    #   labels_smooth = labels_smooth.float()\n",
        "    #   labels_smooth = labels_smooth*0.9 + 0.1/10\n",
        "    loss = criterion(output, labels)\n",
        "    loss.backward()\n",
        "    optimizer.step()\n",
        "\n",
        "    running_loss += loss.item()\n",
        "  else:\n",
        "    test_loss = 0\n",
        "    accuracy = 0\n",
        "\n",
        "    # Turn off gradients for validation, saves memory and computation\n",
        "    with torch.no_grad():\n",
        "      # Set the model to evaluation mode\n",
        "      model.eval()\n",
        "\n",
        "      # Validation pass\n",
        "      for images, labels in testloader:\n",
        "        images = images.to(device)\n",
        "        labels = labels.to(device)\n",
        "        log_ps = model(images)\n",
        "\n",
        "        test_loss += criterion(log_ps, labels)\n",
        "\n",
        "        ps = torch.exp(log_ps)\n",
        "        top_p, top_class = ps.topk(1, dim = 1)\n",
        "        equals = top_class == labels.view(*top_class.shape)\n",
        "        accuracy += torch.mean(equals.type(torch.FloatTensor))\n",
        "\n",
        "    model.train()\n",
        "    train_losses.append(running_loss/len(trainloader))\n",
        "    test_losses.append(test_loss/len(testloader))\n",
        "\n",
        "    print(\"Epoch: {}/{}..\".format(e+1, epochs),\n",
        "          \"Training loss: {:.3f}..\".format(running_loss/len(trainloader)),\n",
        "          \"Test loss: {:.3f}..\".format(test_loss/len(testloader)),\n",
        "          \"Test Accuracy: {:.3f}\".format(accuracy/len(testloader)))"
      ],
      "metadata": {
        "colab": {
          "base_uri": "https://localhost:8080/"
        },
        "id": "GEv0iPcj3tNc",
        "outputId": "7780ff61-5437-497d-ded2-fefcbbc444fc"
      },
      "execution_count": 15,
      "outputs": [
        {
          "output_type": "stream",
          "name": "stdout",
          "text": [
            "Epoch: 1/30.. Training loss: 0.899.. Test loss: 0.608.. Test Accuracy: 0.755\n",
            "Epoch: 2/30.. Training loss: 0.532.. Test loss: 0.461.. Test Accuracy: 0.825\n",
            "Epoch: 3/30.. Training loss: 0.462.. Test loss: 0.426.. Test Accuracy: 0.849\n",
            "Epoch: 4/30.. Training loss: 0.410.. Test loss: 0.370.. Test Accuracy: 0.866\n",
            "Epoch: 5/30.. Training loss: 0.382.. Test loss: 0.369.. Test Accuracy: 0.868\n",
            "Epoch: 6/30.. Training loss: 0.346.. Test loss: 0.370.. Test Accuracy: 0.868\n",
            "Epoch: 7/30.. Training loss: 0.342.. Test loss: 0.397.. Test Accuracy: 0.858\n",
            "Epoch: 8/30.. Training loss: 0.323.. Test loss: 0.389.. Test Accuracy: 0.857\n",
            "Epoch: 9/30.. Training loss: 0.308.. Test loss: 0.340.. Test Accuracy: 0.878\n",
            "Epoch: 10/30.. Training loss: 0.304.. Test loss: 0.357.. Test Accuracy: 0.875\n",
            "Epoch: 11/30.. Training loss: 0.292.. Test loss: 0.330.. Test Accuracy: 0.883\n",
            "Epoch: 12/30.. Training loss: 0.298.. Test loss: 0.359.. Test Accuracy: 0.877\n",
            "Epoch: 13/30.. Training loss: 0.279.. Test loss: 0.393.. Test Accuracy: 0.866\n",
            "Epoch: 14/30.. Training loss: 0.281.. Test loss: 0.343.. Test Accuracy: 0.883\n",
            "Epoch: 15/30.. Training loss: 0.279.. Test loss: 0.365.. Test Accuracy: 0.872\n",
            "Epoch: 16/30.. Training loss: 0.265.. Test loss: 0.350.. Test Accuracy: 0.872\n",
            "Epoch: 17/30.. Training loss: 0.249.. Test loss: 0.345.. Test Accuracy: 0.885\n",
            "Epoch: 18/30.. Training loss: 0.250.. Test loss: 0.348.. Test Accuracy: 0.884\n",
            "Epoch: 19/30.. Training loss: 0.244.. Test loss: 0.355.. Test Accuracy: 0.872\n",
            "Epoch: 20/30.. Training loss: 0.248.. Test loss: 0.337.. Test Accuracy: 0.884\n",
            "Epoch: 21/30.. Training loss: 0.243.. Test loss: 0.360.. Test Accuracy: 0.876\n",
            "Epoch: 22/30.. Training loss: 0.246.. Test loss: 0.338.. Test Accuracy: 0.886\n",
            "Epoch: 23/30.. Training loss: 0.235.. Test loss: 0.345.. Test Accuracy: 0.885\n",
            "Epoch: 24/30.. Training loss: 0.227.. Test loss: 0.356.. Test Accuracy: 0.887\n",
            "Epoch: 25/30.. Training loss: 0.232.. Test loss: 0.348.. Test Accuracy: 0.885\n",
            "Epoch: 26/30.. Training loss: 0.230.. Test loss: 0.389.. Test Accuracy: 0.877\n",
            "Epoch: 27/30.. Training loss: 0.233.. Test loss: 0.329.. Test Accuracy: 0.889\n",
            "Epoch: 28/30.. Training loss: 0.216.. Test loss: 0.344.. Test Accuracy: 0.886\n",
            "Epoch: 29/30.. Training loss: 0.212.. Test loss: 0.347.. Test Accuracy: 0.887\n",
            "Epoch: 30/30.. Training loss: 0.214.. Test loss: 0.367.. Test Accuracy: 0.883\n"
          ]
        }
      ]
    },
    {
      "metadata": {
        "id": "24VtkQ1ouMoc",
        "colab": {
          "base_uri": "https://localhost:8080/",
          "height": 448
        },
        "outputId": "6968db38-96c3-4ef0-9d24-237c1eda2352"
      },
      "cell_type": "code",
      "source": [
        "if isinstance(train_losses, torch.Tensor):\n",
        "    train_losses = train_losses.cpu().numpy()\n",
        "\n",
        "if isinstance(test_losses, torch.Tensor):\n",
        "    test_losses = test_losses.cpu().numpy()\n",
        "train_losses = [loss.cpu().numpy() if isinstance(loss, torch.Tensor) else loss for loss in train_losses]\n",
        "test_losses = [loss.cpu().numpy() if isinstance(loss, torch.Tensor) else loss for loss in test_losses]\n",
        "plt.plot(train_losses, label = \"Training loss\")\n",
        "plt.plot(test_losses, label = \"Validation loss\")\n",
        "plt.legend(frameon = False)"
      ],
      "execution_count": 16,
      "outputs": [
        {
          "output_type": "execute_result",
          "data": {
            "text/plain": [
              "<matplotlib.legend.Legend at 0x7c901094df60>"
            ]
          },
          "metadata": {},
          "execution_count": 16
        },
        {
          "output_type": "display_data",
          "data": {
            "text/plain": [
              "<Figure size 640x480 with 1 Axes>"
            ],
            "image/png": "[encoded data removed]"
          },
          "metadata": {}
        }
      ]
    }
  ]
}